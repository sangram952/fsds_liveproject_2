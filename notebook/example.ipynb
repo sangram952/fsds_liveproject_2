{
 "cells": [
  {
   "cell_type": "code",
   "execution_count": 1,
   "metadata": {},
   "outputs": [],
   "source": [
    "from collections import namedtuple"
   ]
  },
  {
   "cell_type": "code",
   "execution_count": 2,
   "metadata": {},
   "outputs": [],
   "source": [
    "# all the configuration required to load the data is strored in 'DataIngestionConfig'\n",
    "\n",
    "DataIngestionConfig = namedtuple(\"DataIngestionConfig\",[\"dataset_download_url\",\"tgz_downloadz_dir\",\"raw_data_dir\",\"ingeted_traina_dir\",\"ingested_test_dir\"])\n"
   ]
  },
  {
   "cell_type": "code",
   "execution_count": 4,
   "metadata": {},
   "outputs": [
    {
     "data": {
      "text/plain": [
       "DataIngestionConfig(dataset_download_url='SSDVDSVDV', tgz_downloadz_dir='ACASCS', raw_data_dir='DVGUSGB', ingeted_traina_dir='YJYTJTYJTYJYT', ingested_test_dir='SDVSDCSD')"
      ]
     },
     "execution_count": 4,
     "metadata": {},
     "output_type": "execute_result"
    }
   ],
   "source": [
    "DataIngestionConfig(dataset_download_url=\"SSDVDSVDV\",\n",
    "ingested_test_dir=\"SDVSDCSD\"\n",
    ",raw_data_dir=\"DVGUSGB\",\n",
    "tgz_downloadz_dir=\"ACASCS\",\n",
    "ingeted_traina_dir=\"YJYTJTYJTYJYT\")"
   ]
  },
  {
   "cell_type": "code",
   "execution_count": 6,
   "metadata": {},
   "outputs": [],
   "source": [
    "import yaml\n",
    "import os"
   ]
  },
  {
   "cell_type": "code",
   "execution_count": 7,
   "metadata": {},
   "outputs": [
    {
     "data": {
      "text/plain": [
       "'c:\\\\Users\\\\Dell\\\\Desktop\\\\fsds_liveproject\\\\fsds_liveproject_2\\\\fsds_liveproject_2\\\\notebook'"
      ]
     },
     "execution_count": 7,
     "metadata": {},
     "output_type": "execute_result"
    }
   ],
   "source": [
    "os.getcwd()"
   ]
  },
  {
   "cell_type": "code",
   "execution_count": 8,
   "metadata": {},
   "outputs": [],
   "source": [
    "os.chdir(\"c:\\\\Users\\\\Dell\\\\Desktop\\\\fsds_liveproject\\\\fsds_liveproject_2\\\\fsds_liveproject_2\")"
   ]
  },
  {
   "cell_type": "code",
   "execution_count": null,
   "metadata": {},
   "outputs": [],
   "source": []
  },
  {
   "cell_type": "code",
   "execution_count": null,
   "metadata": {},
   "outputs": [],
   "source": []
  }
 ],
 "metadata": {
  "kernelspec": {
   "display_name": "Python 3.7.0 (conda)",
   "language": "python",
   "name": "python3"
  },
  "language_info": {
   "codemirror_mode": {
    "name": "ipython",
    "version": 3
   },
   "file_extension": ".py",
   "mimetype": "text/x-python",
   "name": "python",
   "nbconvert_exporter": "python",
   "pygments_lexer": "ipython3",
   "version": "3.7.0"
  },
  "orig_nbformat": 4,
  "vscode": {
   "interpreter": {
    "hash": "5595488c5e1fd486e952eb4cd75be20240ee7382df2ba4a3198af3be4dece8ef"
   }
  }
 },
 "nbformat": 4,
 "nbformat_minor": 2
}
